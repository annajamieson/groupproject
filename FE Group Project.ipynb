{
 "cells": [
  {
   "cell_type": "code",
   "execution_count": 1,
   "metadata": {},
   "outputs": [
    {
     "ename": "SyntaxError",
     "evalue": "invalid syntax (<ipython-input-1-7ab44f7593ff>, line 4)",
     "output_type": "error",
     "traceback": [
      "\u001b[0;36m  File \u001b[0;32m\"<ipython-input-1-7ab44f7593ff>\"\u001b[0;36m, line \u001b[0;32m4\u001b[0m\n\u001b[0;31m    for age in {0..230}; do echo ${age};cp Muller_export/topology_subduction_boundaries_sL_${age}.00Ma/topology_subduction_boundaries_sL_${age}.00Ma_polyline.shx Muller_export/topology_subduction_boundaries_sL_${age}.00Ma.shx; cp Muller_export/topology_subduction_boundaries_sL_${age}.00Ma/topology_subduction_boundaries_sL_${age}.00Ma_polyline.shp Muller_export/topology_subduction_boundaries_sL_${age}.00Ma.shp; cp Muller_export/topology_subduction_boundaries_sL_${age}.00Ma/topology_subduction_boundaries_sL_${age}.00Ma_polyline.prj Muller_export/topology_subduction_boundaries_sL_${age}.00Ma.prj; cp Muller_export/topology_subduction_boundaries_sL_${age}.00Ma/topology_subduction_boundaries_sL_${age}.00Ma_polyline.dbf Muller_export/topology_subduction_boundaries_sL_${age}.00Ma.dbf; done\u001b[0m\n\u001b[0m                     ^\u001b[0m\n\u001b[0;31mSyntaxError\u001b[0m\u001b[0;31m:\u001b[0m invalid syntax\n"
     ]
    }
   ],
   "source": [
    "#After exporting /Muller_gplates plate model from GPlates 2.0 toplogies to /Muller_export\n",
    "#In shell to copy out all the files we need to run convergene, do this:\n",
    "\n",
    "for age in {0..230}; do echo ${age};cp Muller_export/topology_subduction_boundaries_sL_${age}.00Ma/topology_subduction_boundaries_sL_${age}.00Ma_polyline.shx Muller_export/topology_subduction_boundaries_sL_${age}.00Ma.shx; cp Muller_export/topology_subduction_boundaries_sL_${age}.00Ma/topology_subduction_boundaries_sL_${age}.00Ma_polyline.shp Muller_export/topology_subduction_boundaries_sL_${age}.00Ma.shp; cp Muller_export/topology_subduction_boundaries_sL_${age}.00Ma/topology_subduction_boundaries_sL_${age}.00Ma_polyline.prj Muller_export/topology_subduction_boundaries_sL_${age}.00Ma.prj; cp Muller_export/topology_subduction_boundaries_sL_${age}.00Ma/topology_subduction_boundaries_sL_${age}.00Ma_polyline.dbf Muller_export/topology_subduction_boundaries_sL_${age}.00Ma.dbf; done\n",
    "\n",
    "#and\n",
    "\n",
    "for age in {0..230}; do echo ${age};cp Muller_export/topology_subduction_boundaries_sR_${age}.00Ma/topology_subduction_boundaries_sR_${age}.00Ma_polyline.shx Muller_export/topology_subduction_boundaries_sR_${age}.00Ma.shx; cp Muller_export/topology_subduction_boundaries_sR_${age}.00Ma/topology_subduction_boundaries_sR_${age}.00Ma_polyline.shp Muller_export/topology_subduction_boundaries_sR_${age}.00Ma.shp; cp Muller_export/topology_subduction_boundaries_sR_${age}.00Ma/topology_subduction_boundaries_sR_${age}.00Ma_polyline.prj Muller_export/topology_subduction_boundaries_sR_${age}.00Ma.prj; cp Muller_export/topology_subduction_boundaries_sR_${age}.00Ma/topology_subduction_boundaries_sR_${age}.00Ma_polyline.dbf Muller_export/topology_subduction_boundaries_sR_${age}.00Ma.dbf; done\n",
    "\n",
    "#Then I have found the latest version of pygplates has some issues with running ocnvergence, so I just used an older verion, so I set:\n",
    "\n",
    "export PYTHONPATH=pygplates_r15382_python27_MacOS64\n",
    "\n",
    "#Then ran convergence on all the timesteps:\n",
    "\n",
    "for age in {0..230}; do echo ${age};  python convergence.py Muller_gplates/Global_EarthByte_230-0Ma_GK07_AREPS.rot Muller_export/topology_subduction_boundaries_sL_${age}.00Ma.shp Muller_export/topology_subduction_boundaries_sR_${age}.00Ma.shp Muller_export/topology_platepolygons_${age}.00Ma.shp ${age}; done\n",
    "\n",
    "#then made a new directory and moved the output\n",
    "\n",
    "mkdir Muller_convergence\n",
    "mv subStats_* Muller_convergence/\n",
    "\n",
    "#then the rest of the steps can be done in this notebook...."
   ]
  },
  {
   "cell_type": "code",
   "execution_count": 2,
   "metadata": {},
   "outputs": [],
   "source": [
    "import sys\n",
    "sys.path.append('/users/annajamieson/downloads/pygplates_rev12_python27_MACOS64')"
   ]
  },
  {
   "cell_type": "code",
   "execution_count": 3,
   "metadata": {},
   "outputs": [
    {
     "name": "stdout",
     "output_type": "stream",
     "text": [
      "Populating the interactive namespace from numpy and matplotlib\n",
      "Imported pygplates.\n",
      "Imported shapefile.\n",
      "Imported numpy.\n",
      "Imported scipy.\n"
     ]
    }
   ],
   "source": [
    "#Last Updated 20180523\n",
    "#Changed Appendix 3 Butterworth et al. 2016 \n",
    "#Tectonic environments of South American porphyry-copper magmatism through time revealed\n",
    "#by spatio-temporal data mining\n",
    "#Nathaniel Butterworth, Daniel Steinberg, Dietmar Müller, Simon Williams, Andrew Merdith,\n",
    "#Stephen Hardy\n",
    "\n",
    "#Use pylab to show figures\n",
    "%pylab --no-import-all inline\n",
    "\n",
    "#Import a few different tools and libraries. See Utils_coreg for more detail.\n",
    "from Utils_coreg import *\n",
    "\n",
    "#Import the tools for machine learning\n",
    "from sklearn.model_selection import train_test_split\n",
    "from sklearn.model_selection import cross_val_score\n",
    "#from sklearn import cross_validation\n",
    "from sklearn.svm import SVC\n",
    "from sklearn.ensemble import RandomForestClassifier\n",
    "from sklearn import preprocessing\n",
    "\n",
    "#Import data processing tools\n",
    "import pickle\n",
    "import matplotlib.mlab as ml"
   ]
  },
  {
   "cell_type": "code",
   "execution_count": 9,
   "metadata": {},
   "outputs": [
    {
     "ename": "IOError",
     "evalue": "[Errno 2] No such file or directory: 'users/annajamieson/mineralexplorationcourse/data/EarthChemFE.txt'",
     "output_type": "error",
     "traceback": [
      "\u001b[0;31m---------------------------------------------------------------------------\u001b[0m",
      "\u001b[0;31mIOError\u001b[0m                                   Traceback (most recent call last)",
      "\u001b[0;32m<ipython-input-9-b9e331d1a23f>\u001b[0m in \u001b[0;36m<module>\u001b[0;34m()\u001b[0m\n\u001b[1;32m     21\u001b[0m \u001b[0;31m#######\u001b[0m\u001b[0;34m\u001b[0m\u001b[0;34m\u001b[0m\u001b[0m\n\u001b[1;32m     22\u001b[0m \u001b[0;34m\u001b[0m\u001b[0m\n\u001b[0;32m---> 23\u001b[0;31m \u001b[0mandeanIN\u001b[0m\u001b[0;34m=\u001b[0m\u001b[0mopen\u001b[0m\u001b[0;34m(\u001b[0m\u001b[0;34mr'users/annajamieson/mineralexplorationcourse/data/EarthChemFE.txt'\u001b[0m\u001b[0;34m,\u001b[0m\u001b[0;34m'rb'\u001b[0m\u001b[0;34m)\u001b[0m\u001b[0;34m\u001b[0m\u001b[0m\n\u001b[0m\u001b[1;32m     24\u001b[0m \u001b[0;31m# andeanIN=open(r'Muller_Bertrand_coregistered_random.pkl','rb') #use a random case here for sanity check\u001b[0m\u001b[0;34m\u001b[0m\u001b[0;34m\u001b[0m\u001b[0m\n\u001b[1;32m     25\u001b[0m \u001b[0mandes\u001b[0m\u001b[0;34m=\u001b[0m\u001b[0mpickle\u001b[0m\u001b[0;34m.\u001b[0m\u001b[0mload\u001b[0m\u001b[0;34m(\u001b[0m\u001b[0mandeanIN\u001b[0m\u001b[0;34m)\u001b[0m\u001b[0;34m\u001b[0m\u001b[0m\n",
      "\u001b[0;31mIOError\u001b[0m: [Errno 2] No such file or directory: 'users/annajamieson/mineralexplorationcourse/data/EarthChemFE.txt'"
     ]
    }
   ],
   "source": [
    "#####\n",
    "# Develop the Data here\n",
    "#####\n",
    "\n",
    "# #Digitised pophyry copper deposits from Bertrand et al., 2014\n",
    "# andeanPoints=\"CopperDeposits/XYBer14_t2_ANDES.shp\"\n",
    "# print andeanPoints\n",
    "# [recs,shapes,fields,Nshp]=readTopologyPlatepolygonFile(andeanPoints)\n",
    "\n",
    "# #Run the coregistration. !!!The agegrids are hardcoded, so need to set the path in Utils_coreg.py\n",
    "# coregData=coregLoop(recs,shapes,fields,Nshp,3)\n",
    "# andes=numpy.array(coregData)\n",
    "\n",
    "# #Load a pseudo-random set of 'copper deposits' to test against (last 3 columns in the Bertrand data set)\n",
    "# #Utils_coreg.py hardcodes the random field to be at column number -1, -2, or -3\n",
    "# coregData=coregLoop(recs,shapes,fields,Nshp,4)\n",
    "# andesRand=numpy.array(coregData)\n",
    "\n",
    "\n",
    "# # Read the data in\n",
    "#######\n",
    "\n",
    "andeanIN=open(r'users/annajamieson/mineralexplorationcourse/data/EarthChemFE.txt','rb')\n",
    "# andeanIN=open(r'Muller_Bertrand_coregistered_random.pkl','rb') #use a random case here for sanity check\n",
    "andes=pickle.load(andeanIN)\n",
    "andeanIN.close()\n",
    "\n",
    "andeanIN=open(r'Muller_pickles/Muller_Bertrand_coregistered_random.pkl','rb')\n",
    "andesRand=pickle.load(andeanIN)\n",
    "andeanIN.close()\n",
    "\n",
    "print andes.shape\n",
    "print andesRand.shape\n",
    "\n",
    "#Read in the present day subduction zone to trace back in time.\n",
    "andeanIN=open(r'Muller_pickles/Muller_Bertrand_coregistered_sampleMuller0.pkl','rb')\n",
    "andesPresent=pickle.load(andeanIN)\n",
    "andeanIN.close()\n",
    "\n",
    "print andesPresent.shape\n",
    "\n",
    "print \"loaded datasets\""
   ]
  },
  {
   "cell_type": "code",
   "execution_count": null,
   "metadata": {},
   "outputs": [],
   "source": []
  },
  {
   "cell_type": "code",
   "execution_count": null,
   "metadata": {},
   "outputs": [],
   "source": []
  }
 ],
 "metadata": {
  "kernelspec": {
   "display_name": "Python 2",
   "language": "python",
   "name": "python2"
  },
  "language_info": {
   "codemirror_mode": {
    "name": "ipython",
    "version": 2
   },
   "file_extension": ".py",
   "mimetype": "text/x-python",
   "name": "python",
   "nbconvert_exporter": "python",
   "pygments_lexer": "ipython2",
   "version": "2.7.16"
  }
 },
 "nbformat": 4,
 "nbformat_minor": 2
}
