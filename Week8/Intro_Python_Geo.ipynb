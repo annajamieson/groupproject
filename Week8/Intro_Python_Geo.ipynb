{
 "cells": [
  {
   "cell_type": "markdown",
   "metadata": {},
   "source": [
    "# Introduction to Python for Geoscientists\n",
    "\n",
    "This is a \"Jupyter Notebook\". Formerly an IPython Notebook. It is a good way to document workflows and analysis pipelines. You can have Python, R, Fortran, Julia, etc notebooks. This is a \"Markdown\" cell, you can write notes, equations in latex style, $E=\\kappa A ^m (\\nabla z)^n$, or embed figures. \n",
    "\n",
    "Today we are using a Python kernel to do some cool stuff with Geoscience data. The following cell is your first Python code"
   ]
  },
  {
   "cell_type": "code",
   "execution_count": 4,
   "metadata": {},
   "outputs": [
    {
     "data": {
      "text/plain": [
       "42"
      ]
     },
     "execution_count": 4,
     "metadata": {},
     "output_type": "execute_result"
    }
   ],
   "source": [
    "2+4*10"
   ]
  },
  {
   "cell_type": "code",
   "execution_count": 5,
   "metadata": {},
   "outputs": [],
   "source": [
    "#This is a comment. This is for a human to read (so you remember what your code does!)\n",
    "#Python ignores anything behind the '#'.\n",
    "\n",
    "#The next line is an example of a 'variable'. Assign values using a single '=' sign.\n",
    "time=145"
   ]
  },
  {
   "cell_type": "code",
   "execution_count": 6,
   "metadata": {},
   "outputs": [
    {
     "data": {
      "text/plain": [
       "145"
      ]
     },
     "execution_count": 6,
     "metadata": {},
     "output_type": "execute_result"
    }
   ],
   "source": [
    "time"
   ]
  },
  {
   "cell_type": "markdown",
   "metadata": {},
   "source": [
    "Note: A variable (e.g. time) must start with a letter or underscore, and can include a number"
   ]
  },
  {
   "cell_type": "code",
   "execution_count": 7,
   "metadata": {},
   "outputs": [
    {
     "name": "stdout",
     "output_type": "stream",
     "text": [
      "The age of the sample is 145  Million years\n"
     ]
    }
   ],
   "source": [
    "#Now you can use that variable in different ways.... firstly print it out to the screen\n",
    "print(\"The age of the sample is\", time, \" Million years\")"
   ]
  },
  {
   "cell_type": "code",
   "execution_count": 8,
   "metadata": {},
   "outputs": [],
   "source": [
    "#Make a new variable called 'endtime' and add a constant to our 'time' variable\n",
    "endtime=time+56"
   ]
  },
  {
   "cell_type": "code",
   "execution_count": 9,
   "metadata": {},
   "outputs": [
    {
     "name": "stdout",
     "output_type": "stream",
     "text": [
      "201\n"
     ]
    }
   ],
   "source": [
    "#Nothing printed out above? Good. Jupyter Notebooks won't always do that so let's tell Python to print it.\n",
    "print(endtime)"
   ]
  },
  {
   "cell_type": "code",
   "execution_count": 10,
   "metadata": {},
   "outputs": [
    {
     "name": "stdout",
     "output_type": "stream",
     "text": [
      "My sample is  201  Million years old from the Jurassic  age.\n"
     ]
    }
   ],
   "source": [
    "#Make a new 'string' variable\n",
    "geological_age='Jurassic'\n",
    "\n",
    "#Print out some useful information that includes our different variables\n",
    "print(\"My sample is \", endtime, \" Million years old from the\", geological_age, \" age.\")"
   ]
  },
  {
   "cell_type": "code",
   "execution_count": 11,
   "metadata": {},
   "outputs": [
    {
     "name": "stdout",
     "output_type": "stream",
     "text": [
      "[1, 4.5, 8.2, 'Jurassic', 'Another string', True]\n"
     ]
    }
   ],
   "source": [
    "#Make a Python List object, similar to an array.\n",
    "times=[1,4.5,5+3.2,geological_age,\"Another string\",True]\n",
    "\n",
    "print(times)\n",
    "\n",
    "#There are many different types of data types and objects: \n",
    "#int, long, float, complex, NaN, logical, String, Lists, Tuple, Dictionary, functions, classes, etc"
   ]
  },
  {
   "cell_type": "code",
   "execution_count": 12,
   "metadata": {},
   "outputs": [
    {
     "name": "stdout",
     "output_type": "stream",
     "text": [
      "1\n"
     ]
    }
   ],
   "source": [
    "#indexing\n",
    "print(times[0])"
   ]
  },
  {
   "cell_type": "code",
   "execution_count": 13,
   "metadata": {},
   "outputs": [
    {
     "name": "stdout",
     "output_type": "stream",
     "text": [
      "Another string\n"
     ]
    }
   ],
   "source": [
    "print(times[4])"
   ]
  },
  {
   "cell_type": "code",
   "execution_count": 14,
   "metadata": {},
   "outputs": [
    {
     "name": "stdout",
     "output_type": "stream",
     "text": [
      "A\n"
     ]
    }
   ],
   "source": [
    "print(times[4][0])"
   ]
  },
  {
   "cell_type": "markdown",
   "metadata": {},
   "source": [
    "### Functions\n",
    "These are bits of code you want to perhaps use many times, or keep self contained, or refer to at different points. They can take values as input and give values back (or not). "
   ]
  },
  {
   "cell_type": "code",
   "execution_count": 15,
   "metadata": {},
   "outputs": [],
   "source": [
    "#Declare the name of the function\n",
    "def add_numbers(x,y):\n",
    "    '''adds two numbers\n",
    "    usage: myaddition=addnumbers(x,y)\n",
    "    returns: z\n",
    "    inputs: x,y\n",
    "    x and y are two integers\n",
    "    z is the summation of x and y\n",
    "    '''\n",
    "    \n",
    "    z=x+y\n",
    "    \n",
    "    return(z)"
   ]
  },
  {
   "cell_type": "markdown",
   "metadata": {},
   "source": [
    "Note the indentation - Python forces your code to be nicely readable by using 'whitespace'/indentation to signify what chunks of code are related. You will see this more later.\n",
    "    \n",
    "Many functions have a header - formatted as a multiline comment with three '''. This hopefully will tell you about the function\n",
    "\n",
    "Anyway, let's run our function, now that we have initialised it!"
   ]
  },
  {
   "cell_type": "code",
   "execution_count": 16,
   "metadata": {},
   "outputs": [
    {
     "data": {
      "text/plain": [
       "3"
      ]
     },
     "execution_count": 16,
     "metadata": {},
     "output_type": "execute_result"
    }
   ],
   "source": [
    "add_numbers(1,2)"
   ]
  },
  {
   "cell_type": "markdown",
   "metadata": {},
   "source": [
    "### Loops, operators, conditions\n",
    "Python is great for doing something a million times. It can be useful if you have many samples/datapoints and you want to operate or manipulate those points."
   ]
  },
  {
   "cell_type": "code",
   "execution_count": 17,
   "metadata": {},
   "outputs": [
    {
     "name": "stdout",
     "output_type": "stream",
     "text": [
      "1\n",
      "4.5\n",
      "8.2\n",
      "Jurassic\n",
      "Another string\n",
      "True\n"
     ]
    }
   ],
   "source": [
    "#Loop through our list 'times' that we defined above\n",
    "for mything in times:\n",
    "    print(mything)"
   ]
  },
  {
   "cell_type": "markdown",
   "metadata": {},
   "source": [
    "Sometimes you need to loop through a list, but simultaneously keep track of which index you're up to."
   ]
  },
  {
   "cell_type": "code",
   "execution_count": 18,
   "metadata": {},
   "outputs": [
    {
     "name": "stdout",
     "output_type": "stream",
     "text": [
      "index: 0  The thing in my 'times' list: 1\n",
      "index: 1  The thing in my 'times' list: 4.5\n",
      "index: 2  The thing in my 'times' list: 8.2\n",
      "index: 3  The thing in my 'times' list: Jurassic\n",
      "index: 4  The thing in my 'times' list: Another string\n",
      "index: 5  The thing in my 'times' list: True\n"
     ]
    }
   ],
   "source": [
    "for myindex, mything in enumerate(times):\n",
    "    print(\"index:\",myindex,\" The thing in my 'times' list:\",mything)"
   ]
  },
  {
   "cell_type": "markdown",
   "metadata": {},
   "source": [
    "You don't always need a pre-defined list"
   ]
  },
  {
   "cell_type": "code",
   "execution_count": 19,
   "metadata": {},
   "outputs": [
    {
     "name": "stdout",
     "output_type": "stream",
     "text": [
      "time: 145  age: 140  difference: 5\n",
      "time: 145  age: 141  difference: 4\n",
      "time: 145  age: 142  difference: 3\n",
      "time: 145  age: 143  difference: 2\n",
      "time: 145  age: 144  difference: 1\n"
     ]
    }
   ],
   "source": [
    "age=140\n",
    "# What is the value of \"time\" ?\n",
    "# age < time is a \"logical\" data-type. It's either True or False\n",
    "while age < time:\n",
    "    print(\"time:\", time, \" age:\", age, \" difference:\",time-age)\n",
    "    age=age+1"
   ]
  },
  {
   "cell_type": "markdown",
   "metadata": {},
   "source": [
    "#### Control statements"
   ]
  },
  {
   "cell_type": "code",
   "execution_count": 20,
   "metadata": {},
   "outputs": [
    {
     "name": "stdout",
     "output_type": "stream",
     "text": [
      "145\n"
     ]
    }
   ],
   "source": [
    "#Control statements: if, for, while, try, \n",
    "if time < 200:\n",
    "    print(time)"
   ]
  },
  {
   "cell_type": "code",
   "execution_count": 21,
   "metadata": {},
   "outputs": [
    {
     "name": "stdout",
     "output_type": "stream",
     "text": [
      "Jurassic\n"
     ]
    }
   ],
   "source": [
    "if time <= 200:\n",
    "    print(geological_age)\n",
    "elif time > 200:\n",
    "    print(\"Triassic age\")\n",
    "else:\n",
    "    pass #This option is not necessarily needed, but can be useful in some scenarios"
   ]
  },
  {
   "cell_type": "code",
   "execution_count": 22,
   "metadata": {},
   "outputs": [],
   "source": [
    "#Another function\n",
    "def timescale(t):\n",
    "    print(t)\n",
    "    if (t <= 4500) & (t > 2500):\n",
    "        return(\"Archean\")\n",
    "\n",
    "    elif (t <=2500) & (t > 541):\n",
    "        return(\"Proterozoic\")\n",
    "\n",
    "    elif (t <= 541) & (t > 252):\n",
    "        return(\"Palaeozoic\")\n",
    "\n",
    "    elif (t <=252) & (t > 65):\n",
    "        return(\"Palaeozoic\")\n",
    "\n",
    "    elif (t <=65) & (t >= 0):\n",
    "        return(\"Cenozoic\")\n",
    "\n",
    "    else:\n",
    "        print (\"Expect number between 0 and 4500, got:\",t)\n",
    "        return(float('nan'))"
   ]
  },
  {
   "cell_type": "code",
   "execution_count": 23,
   "metadata": {},
   "outputs": [
    {
     "name": "stdout",
     "output_type": "stream",
     "text": [
      "3465\n"
     ]
    },
    {
     "data": {
      "text/plain": [
       "'Archean'"
      ]
     },
     "execution_count": 23,
     "metadata": {},
     "output_type": "execute_result"
    }
   ],
   "source": [
    "timescale(3465)"
   ]
  },
  {
   "cell_type": "markdown",
   "metadata": {},
   "source": [
    "That is the basics. Now we are going to load in some data and manipulate it.\n",
    "\n",
    "## Loading data"
   ]
  },
  {
   "cell_type": "code",
   "execution_count": 24,
   "metadata": {},
   "outputs": [],
   "source": [
    "#First we have to load some modules to do the work for us.\n",
    "#Modules are packages people have written so we do not have to re-invent everything!\n",
    "\n",
    "#The first is NUMerical PYthon. A very popular matrix, math, array and data manipulation library.\n",
    "import numpy\n",
    "\n",
    "#Pandas is a module that is great for dealing with tables of data\n",
    "import pandas\n",
    "\n",
    "#This is a library for making figures (orignally based off Matlab plotting routines)\n",
    "#We use the alias 'plt' because we don't want to type out the whole name everytime we reference it!\n",
    "import matplotlib.pyplot as plt "
   ]
  },
  {
   "cell_type": "code",
   "execution_count": 25,
   "metadata": {},
   "outputs": [],
   "source": [
    "#Set the variable name for the file we are loading in. \n",
    "#It is in the 'data' directory, and the file is called EarthChemCU.txt. \n",
    "#We are currently working in /examples.\n",
    "filename = '../data/EarthChemCU.txt'\n",
    "\n",
    "#Now read in the data\n",
    "# loadtxt() is a function that we can now use because we loaded the library called numpy\n",
    "chemdata=numpy.loadtxt(filename, delimiter=',')\n",
    "#chemdata <- the name of a variable we are making that will hold the table of data\n",
    "#filename <- this is the name of the variable we declared above\n",
    "#delimiter <- this is a csv file"
   ]
  },
  {
   "cell_type": "markdown",
   "metadata": {},
   "source": [
    "### Want more details about a command/function we use?"
   ]
  },
  {
   "cell_type": "code",
   "execution_count": 26,
   "metadata": {
    "scrolled": true
   },
   "outputs": [
    {
     "name": "stdout",
     "output_type": "stream",
     "text": [
      "Help on function loadtxt in module numpy:\n",
      "\n",
      "loadtxt(fname, dtype=<class 'float'>, comments='#', delimiter=None, converters=None, skiprows=0, usecols=None, unpack=False, ndmin=0, encoding='bytes', max_rows=None)\n",
      "    Load data from a text file.\n",
      "    \n",
      "    Each row in the text file must have the same number of values.\n",
      "    \n",
      "    Parameters\n",
      "    ----------\n",
      "    fname : file, str, or pathlib.Path\n",
      "        File, filename, or generator to read.  If the filename extension is\n",
      "        ``.gz`` or ``.bz2``, the file is first decompressed. Note that\n",
      "        generators should return byte strings for Python 3k.\n",
      "    dtype : data-type, optional\n",
      "        Data-type of the resulting array; default: float.  If this is a\n",
      "        structured data-type, the resulting array will be 1-dimensional, and\n",
      "        each row will be interpreted as an element of the array.  In this\n",
      "        case, the number of columns used must match the number of fields in\n",
      "        the data-type.\n",
      "    comments : str or sequence of str, optional\n",
      "        The characters or list of characters used to indicate the start of a\n",
      "        comment. None implies no comments. For backwards compatibility, byte\n",
      "        strings will be decoded as 'latin1'. The default is '#'.\n",
      "    delimiter : str, optional\n",
      "        The string used to separate values. For backwards compatibility, byte\n",
      "        strings will be decoded as 'latin1'. The default is whitespace.\n",
      "    converters : dict, optional\n",
      "        A dictionary mapping column number to a function that will parse the\n",
      "        column string into the desired value.  E.g., if column 0 is a date\n",
      "        string: ``converters = {0: datestr2num}``.  Converters can also be\n",
      "        used to provide a default value for missing data (but see also\n",
      "        `genfromtxt`): ``converters = {3: lambda s: float(s.strip() or 0)}``.\n",
      "        Default: None.\n",
      "    skiprows : int, optional\n",
      "        Skip the first `skiprows` lines; default: 0.\n",
      "    usecols : int or sequence, optional\n",
      "        Which columns to read, with 0 being the first. For example,\n",
      "        ``usecols = (1,4,5)`` will extract the 2nd, 5th and 6th columns.\n",
      "        The default, None, results in all columns being read.\n",
      "    \n",
      "        .. versionchanged:: 1.11.0\n",
      "            When a single column has to be read it is possible to use\n",
      "            an integer instead of a tuple. E.g ``usecols = 3`` reads the\n",
      "            fourth column the same way as ``usecols = (3,)`` would.\n",
      "    unpack : bool, optional\n",
      "        If True, the returned array is transposed, so that arguments may be\n",
      "        unpacked using ``x, y, z = loadtxt(...)``.  When used with a structured\n",
      "        data-type, arrays are returned for each field.  Default is False.\n",
      "    ndmin : int, optional\n",
      "        The returned array will have at least `ndmin` dimensions.\n",
      "        Otherwise mono-dimensional axes will be squeezed.\n",
      "        Legal values: 0 (default), 1 or 2.\n",
      "    \n",
      "        .. versionadded:: 1.6.0\n",
      "    encoding : str, optional\n",
      "        Encoding used to decode the inputfile. Does not apply to input streams.\n",
      "        The special value 'bytes' enables backward compatibility workarounds\n",
      "        that ensures you receive byte arrays as results if possible and passes\n",
      "        'latin1' encoded strings to converters. Override this value to receive\n",
      "        unicode arrays and pass strings as input to converters.  If set to None\n",
      "        the system default is used. The default value is 'bytes'.\n",
      "    \n",
      "        .. versionadded:: 1.14.0\n",
      "    max_rows : int, optional\n",
      "        Read `max_rows` lines of content after `skiprows` lines. The default\n",
      "        is to read all the lines.\n",
      "    \n",
      "        .. versionadded:: 1.16.0\n",
      "    \n",
      "    Returns\n",
      "    -------\n",
      "    out : ndarray\n",
      "        Data read from the text file.\n",
      "    \n",
      "    See Also\n",
      "    --------\n",
      "    load, fromstring, fromregex\n",
      "    genfromtxt : Load data with missing values handled as specified.\n",
      "    scipy.io.loadmat : reads MATLAB data files\n",
      "    \n",
      "    Notes\n",
      "    -----\n",
      "    This function aims to be a fast reader for simply formatted files.  The\n",
      "    `genfromtxt` function provides more sophisticated handling of, e.g.,\n",
      "    lines with missing values.\n",
      "    \n",
      "    .. versionadded:: 1.10.0\n",
      "    \n",
      "    The strings produced by the Python float.hex method can be used as\n",
      "    input for floats.\n",
      "    \n",
      "    Examples\n",
      "    --------\n",
      "    >>> from io import StringIO   # StringIO behaves like a file object\n",
      "    >>> c = StringIO(u\"0 1\\n2 3\")\n",
      "    >>> np.loadtxt(c)\n",
      "    array([[ 0.,  1.],\n",
      "           [ 2.,  3.]])\n",
      "    \n",
      "    >>> d = StringIO(u\"M 21 72\\nF 35 58\")\n",
      "    >>> np.loadtxt(d, dtype={'names': ('gender', 'age', 'weight'),\n",
      "    ...                      'formats': ('S1', 'i4', 'f4')})\n",
      "    array([('M', 21, 72.0), ('F', 35, 58.0)],\n",
      "          dtype=[('gender', '|S1'), ('age', '<i4'), ('weight', '<f4')])\n",
      "    \n",
      "    >>> c = StringIO(u\"1,0,2\\n3,0,4\")\n",
      "    >>> x, y = np.loadtxt(c, delimiter=',', usecols=(0, 2), unpack=True)\n",
      "    >>> x\n",
      "    array([ 1.,  3.])\n",
      "    >>> y\n",
      "    array([ 2.,  4.])\n",
      "\n"
     ]
    }
   ],
   "source": [
    "#Try this help command\n",
    "help(numpy.loadtxt)"
   ]
  },
  {
   "cell_type": "markdown",
   "metadata": {},
   "source": [
    "Or really just google the function!\n",
    "\n",
    "## Exploring your data\n",
    "#### It is often a good idea to look at the data to have some idea of what you are working with"
   ]
  },
  {
   "cell_type": "code",
   "execution_count": 27,
   "metadata": {},
   "outputs": [
    {
     "name": "stdout",
     "output_type": "stream",
     "text": [
      "[[ 3.92583e+01 -1.14992e+02  1.11000e+02  1.96000e+04]\n",
      " [ 3.92583e+01 -1.14992e+02  1.11000e+02  1.57000e+04]\n",
      " [ 4.12060e+01 -1.17272e+02  1.05000e+02  3.00000e+00]\n",
      " ...\n",
      " [ 2.00530e+01  1.17419e+02  0.00000e+00  3.00000e+01]\n",
      " [ 2.00530e+01  1.17419e+02  0.00000e+00  3.30000e+01]\n",
      " [ 2.00530e+01  1.17419e+02  0.00000e+00  3.50000e+01]]\n"
     ]
    }
   ],
   "source": [
    "#What does the data look like. Print it out\n",
    "print(chemdata)"
   ]
  },
  {
   "cell_type": "markdown",
   "metadata": {},
   "source": [
    "This data is in the style: **Latitude (degrees), Longitude (degrees -180:180), Age (Ma), Copper abundance (ppm)**"
   ]
  },
  {
   "cell_type": "code",
   "execution_count": 28,
   "metadata": {},
   "outputs": [
    {
     "name": "stdout",
     "output_type": "stream",
     "text": [
      "(207431, 4)\n"
     ]
    }
   ],
   "source": [
    "#Print the dimensions of the data\n",
    "print(chemdata.shape)"
   ]
  },
  {
   "cell_type": "markdown",
   "metadata": {},
   "source": [
    "207431 rows! A good example for why we use Python and not something like Excel.\n",
    "\n",
    "### Accessing data from an array\n",
    "chemdata is a table of data: an array with two dimensions. So to access/look at/change parts of it, we need to specify both row and column"
   ]
  },
  {
   "cell_type": "code",
   "execution_count": 29,
   "metadata": {},
   "outputs": [
    {
     "name": "stdout",
     "output_type": "stream",
     "text": [
      "111.0\n"
     ]
    }
   ],
   "source": [
    "#Print the number in the first row and third column. \n",
    "#IMPORTANT: Python counts from 0\n",
    "print(chemdata[1,2])"
   ]
  },
  {
   "cell_type": "code",
   "execution_count": 30,
   "metadata": {},
   "outputs": [
    {
     "name": "stdout",
     "output_type": "stream",
     "text": [
      "[   39.2583  -114.992    111.     19600.    ]\n"
     ]
    }
   ],
   "source": [
    "#Print the first row\n",
    "print(chemdata[0,:])"
   ]
  },
  {
   "cell_type": "code",
   "execution_count": 31,
   "metadata": {},
   "outputs": [
    {
     "name": "stdout",
     "output_type": "stream",
     "text": [
      "[111. 111. 105. ...   0.   0.   0.]\n"
     ]
    }
   ],
   "source": [
    "#Print the third column\n",
    "print(chemdata[:,2])"
   ]
  },
  {
   "cell_type": "code",
   "execution_count": 32,
   "metadata": {},
   "outputs": [
    {
     "name": "stdout",
     "output_type": "stream",
     "text": [
      "[[  41.206 -117.272]\n",
      " [  41.186 -117.417]\n",
      " [  41.177 -117.485]]\n"
     ]
    }
   ],
   "source": [
    "#Print the first two columns for row id 2, 5 and 6. \n",
    "print(chemdata[[2,5,6],0:2])"
   ]
  },
  {
   "cell_type": "markdown",
   "metadata": {},
   "source": [
    "## Plotting data\n",
    "Now to make our first plot!"
   ]
  },
  {
   "cell_type": "code",
   "execution_count": 33,
   "metadata": {},
   "outputs": [
    {
     "data": {
      "image/png": "[encoded data removed]",
      "text/plain": [
       "<Figure size 432x288 with 1 Axes>"
      ]
     },
     "metadata": {
      "needs_background": "light"
     },
     "output_type": "display_data"
    }
   ],
   "source": [
    "#Plot the lats and lons, i.e. the first column vs the second column\n",
    "plt.plot(chemdata[:,1],chemdata[:,0],'k.')\n",
    "plt.title('Copper Deposit Data')\n",
    "plt.ylabel('Latitude')\n",
    "plt.xlabel('Longitude')\n",
    "plt.show()"
   ]
  },
  {
   "cell_type": "markdown",
   "metadata": {},
   "source": [
    "This does not look right... It is a messy dataset! This is not uncommon. \n",
    "Maybe the Lats/Lons are stored as Norhtings/Eastings for some samples. \n",
    "Maybe they are missing a decimal place.\n",
    "\n",
    "Anyway, Python is a great tool to clean things up! Let's investigate further."
   ]
  },
  {
   "cell_type": "code",
   "execution_count": 34,
   "metadata": {},
   "outputs": [
    {
     "data": {
      "image/png": "[encoded data removed]",
      "text/plain": [
       "<Figure size 432x288 with 1 Axes>"
      ]
     },
     "metadata": {
      "needs_background": "light"
     },
     "output_type": "display_data"
    },
    {
     "data": {
      "image/png": "[encoded data removed]",
      "text/plain": [
       "<Figure size 432x288 with 1 Axes>"
      ]
     },
     "metadata": {
      "needs_background": "light"
     },
     "output_type": "display_data"
    }
   ],
   "source": [
    "#Plot the Latitudes\n",
    "plt.plot(chemdata[:,0])\n",
    "plt.ylabel('Latitude')\n",
    "plt.xlabel('Number')\n",
    "plt.show()\n",
    "\n",
    "#Plot the Longitudes\n",
    "plt.plot(chemdata[:,1],'r')\n",
    "plt.ylabel('Longitude')\n",
    "plt.xlabel('Number')\n",
    "plt.show()"
   ]
  },
  {
   "cell_type": "markdown",
   "metadata": {},
   "source": [
    "There are definitely some outliers with latitudes and longitudes. So let's restrict just our points to range -180:180 and -90:90."
   ]
  },
  {
   "cell_type": "code",
   "execution_count": 35,
   "metadata": {},
   "outputs": [],
   "source": [
    "#Clean up the data, remove anything outside lat lon extent\n",
    "\n",
    "#Find all the \"chemdata\" column 1 (i.e. longitude) data points that are greater than -180, save it in a new variable\n",
    "where_longitude_above_min = chemdata[:,1]>-180\n",
    "cudata=chemdata[where_longitude_above_min]\n",
    "#Repeat for less than 180\n",
    "where_longitude_below_max = cudata[:,1]<180\n",
    "cudata2=cudata[where_longitude_below_max]"
   ]
  },
  {
   "cell_type": "markdown",
   "metadata": {},
   "source": [
    "We can make that a litte clearer for the latitude values to see what is actually going on..."
   ]
  },
  {
   "cell_type": "code",
   "execution_count": 36,
   "metadata": {},
   "outputs": [
    {
     "name": "stdout",
     "output_type": "stream",
     "text": [
      "[ True  True  True ...  True  True  True]\n"
     ]
    }
   ],
   "source": [
    "goodlat=cudata2[:,0]<90\n",
    "print(goodlat)"
   ]
  },
  {
   "cell_type": "code",
   "execution_count": 37,
   "metadata": {},
   "outputs": [
    {
     "data": {
      "text/plain": [
       "(207422,)"
      ]
     },
     "execution_count": 37,
     "metadata": {},
     "output_type": "execute_result"
    }
   ],
   "source": [
    "goodlat.shape"
   ]
  },
  {
   "cell_type": "code",
   "execution_count": 38,
   "metadata": {},
   "outputs": [
    {
     "data": {
      "text/plain": [
       "array([[ 3.92583e+01, -1.14992e+02,  1.11000e+02,  1.96000e+04],\n",
       "       [ 3.92583e+01, -1.14992e+02,  1.11000e+02,  1.57000e+04],\n",
       "       [ 4.12060e+01, -1.17272e+02,  1.05000e+02,  3.00000e+00],\n",
       "       ...,\n",
       "       [ 2.00530e+01,  1.17419e+02,  0.00000e+00,  3.00000e+01],\n",
       "       [ 2.00530e+01,  1.17419e+02,  0.00000e+00,  3.30000e+01],\n",
       "       [ 2.00530e+01,  1.17419e+02,  0.00000e+00,  3.50000e+01]])"
      ]
     },
     "execution_count": 38,
     "metadata": {},
     "output_type": "execute_result"
    }
   ],
   "source": [
    "cudata2"
   ]
  },
  {
   "cell_type": "code",
   "execution_count": 39,
   "metadata": {},
   "outputs": [
    {
     "name": "stdout",
     "output_type": "stream",
     "text": [
      "We have removed 47 samples\n"
     ]
    }
   ],
   "source": [
    "\n",
    "#Repeat for latitudes less than 90\n",
    "cudata3=cudata2[cudata2[:,0]<90]\n",
    "#Repeat for greater than -90\n",
    "cudata4=cudata3[cudata3[:,0]>-90]\n",
    "\n",
    "\n",
    "print(\"We have removed\", chemdata.shape[0]-cudata4.shape[0], \"samples\")"
   ]
  },
  {
   "cell_type": "code",
   "execution_count": 40,
   "metadata": {},
   "outputs": [
    {
     "data": {
      "image/png": "[encoded data removed]",
      "text/plain": [
       "<Figure size 432x288 with 1 Axes>"
      ]
     },
     "metadata": {
      "needs_background": "light"
     },
     "output_type": "display_data"
    }
   ],
   "source": [
    "plt.plot(cudata4[:,1],cudata4[:,0],'k.')\n",
    "plt.title('Copper Deposits from EarthChem.org')\n",
    "plt.ylabel('Latitude')\n",
    "plt.xlabel('Longitude')\n",
    "plt.show()\n"
   ]
  },
  {
   "cell_type": "code",
   "execution_count": 41,
   "metadata": {},
   "outputs": [],
   "source": [
    "import numpy as np\n",
    "def reject_outliers(data):\n",
    "    m = 2\n",
    "    u = np.mean(data)\n",
    "    print(\"mean is:\", u)\n",
    "    s = np.std(data)\n",
    "    print(\"std is:\", s)\n",
    "    filtered = [e for e in data if (u - 2 * s < e < u + 2 * s)]\n",
    "    print(\"removed:\",np.shape(data)[0] - np.shape(filtered)[0])\n",
    "    return filtered"
   ]
  },
  {
   "cell_type": "code",
   "execution_count": 42,
   "metadata": {
    "scrolled": false
   },
   "outputs": [
    {
     "data": {
      "image/png": "[encoded data removed]",
      "text/plain": [
       "<Figure size 900x600 with 1 Axes>"
      ]
     },
     "metadata": {
      "needs_background": "light"
     },
     "output_type": "display_data"
    }
   ],
   "source": [
    "lats=cudata4[:,0]\n",
    "longs=cudata4[:,1]\n",
    "age=cudata4[:,3]\n",
    "copper=cudata4[:,2]\n",
    "\n",
    "#lats_rich=lats[copper>2]\n",
    "\n",
    "fig = plt.figure(figsize=(6,4),dpi=150)\n",
    "\n",
    "plt.scatter(longs,lats,s=age/1000,c=copper,vmin=0, vmax=1000,cmap=plt.cm.copper)\n",
    "plt.title('Copper Deposits from EarthChem.org')\n",
    "plt.ylabel('Latitude')\n",
    "plt.xlabel('Longitude')\n",
    "plt.show()"
   ]
  },
  {
   "cell_type": "code",
   "execution_count": 43,
   "metadata": {},
   "outputs": [
    {
     "name": "stdout",
     "output_type": "stream",
     "text": [
      "mean is: 557.0799352891255\n",
      "std is: 961.7746954437551\n",
      "removed: 20407\n"
     ]
    }
   ],
   "source": [
    "filtered_age=reject_outliers(copper)"
   ]
  },
  {
   "cell_type": "code",
   "execution_count": 44,
   "metadata": {},
   "outputs": [
    {
     "data": {
      "image/png": "[encoded data removed]",
      "text/plain": [
       "<Figure size 432x288 with 1 Axes>"
      ]
     },
     "metadata": {
      "needs_background": "light"
     },
     "output_type": "display_data"
    }
   ],
   "source": [
    "plt.plot(copper[copper>1],'k.')\n",
    "plt.show()"
   ]
  },
  {
   "cell_type": "markdown",
   "metadata": {},
   "source": [
    "### Let's make a nicer map"
   ]
  },
  {
   "cell_type": "code",
   "execution_count": 45,
   "metadata": {},
   "outputs": [
    {
     "ename": "ModuleNotFoundError",
     "evalue": "No module named 'cartopy'",
     "output_type": "error",
     "traceback": [
      "\u001b[0;31m---------------------------------------------------------------------------\u001b[0m",
      "\u001b[0;31mModuleNotFoundError\u001b[0m                       Traceback (most recent call last)",
      "\u001b[0;32m<ipython-input-45-9727b7f15d07>\u001b[0m in \u001b[0;36m<module>\u001b[0;34m\u001b[0m\n\u001b[1;32m      1\u001b[0m \u001b[0;31m#Import another module called Cartopy - great for plotting things on globes\u001b[0m\u001b[0;34m\u001b[0m\u001b[0;34m\u001b[0m\u001b[0;34m\u001b[0m\u001b[0m\n\u001b[0;32m----> 2\u001b[0;31m \u001b[0;32mimport\u001b[0m \u001b[0mcartopy\u001b[0m\u001b[0;34m.\u001b[0m\u001b[0mcrs\u001b[0m \u001b[0;32mas\u001b[0m \u001b[0mccrs\u001b[0m\u001b[0;34m\u001b[0m\u001b[0;34m\u001b[0m\u001b[0m\n\u001b[0m\u001b[1;32m      3\u001b[0m \u001b[0;34m\u001b[0m\u001b[0m\n\u001b[1;32m      4\u001b[0m \u001b[0;31m#Make new variables from our array (so it is easier to see what we are doing)\u001b[0m\u001b[0;34m\u001b[0m\u001b[0;34m\u001b[0m\u001b[0;34m\u001b[0m\u001b[0m\n\u001b[1;32m      5\u001b[0m \u001b[0mlats\u001b[0m\u001b[0;34m=\u001b[0m\u001b[0mcudata4\u001b[0m\u001b[0;34m[\u001b[0m\u001b[0;34m:\u001b[0m\u001b[0;34m,\u001b[0m\u001b[0;36m0\u001b[0m\u001b[0;34m]\u001b[0m\u001b[0;34m\u001b[0m\u001b[0;34m\u001b[0m\u001b[0m\n",
      "\u001b[0;31mModuleNotFoundError\u001b[0m: No module named 'cartopy'"
     ]
    }
   ],
   "source": [
    "#Import another module called Cartopy - great for plotting things on globes\n",
    "import cartopy.crs as ccrs\n",
    "\n",
    "#Make new variables from our array (so it is easier to see what we are doing)\n",
    "lats=cudata4[:,0]\n",
    "longs=cudata4[:,1]\n",
    "age=cudata4[:,3]\n",
    "\n",
    "#######\n",
    "## Make the figure\n",
    "#######\n",
    "\n",
    "#Create a figure object\n",
    "fig = plt.figure(figsize=(16,12),dpi=150)\n",
    "\n",
    "#Make a map projection to plot on.\n",
    "ax = plt.axes(projection=ccrs.Robinson())\n",
    "\n",
    "#Add some Earth-specific details (from the cartopy package)\n",
    "ax.set_global()\n",
    "#ax.coastlines('50m', linewidth=0.8)\n",
    "ax.stock_img()\n",
    "ax.gridlines()\n",
    "\n",
    "#Make a scatter plot of the data coloured by age. \n",
    "#Restrict the colour range between 0 and 2000\n",
    "#And also set the scatter plot as a variable 'mapscat' so we can reference it later\n",
    "mapscat=ax.scatter(longs,lats,marker=\".\",c=age,vmin=0,vmax=100,transform=ccrs.Geodetic(),zorder=4,cmap=plt.cm.copper)\n",
    "\n",
    "#Make a Colorbar\n",
    "cbar=plt.colorbar(mapscat, ax=ax, orientation=\"horizontal\", pad=0.05, fraction=0.15, shrink=0.5,extend='max')\n",
    "cbar.set_label('Age (Ma)')\n",
    "\n",
    "# Add a map title, and tell the figure to appear on screen\n",
    "plt.title('Age of Copper Deposits in the EarthChem.org database')\n",
    "plt.show()"
   ]
  },
  {
   "cell_type": "markdown",
   "metadata": {},
   "source": [
    "# Exercise\n",
    "Pick a new element from the EarthChem data and make a similar map. Here is a link the data to download https://www.dropbox.com/sh/b1tkoi6k1xmmcka/AADmxEMNwTbv1DZHifMOWzzPa?dl=0 \n",
    "Create a new notebook and display the diagnostic steps leading up to your final map."
   ]
  },
  {
   "cell_type": "code",
   "execution_count": null,
   "metadata": {},
   "outputs": [],
   "source": [
    "#These were the steps used to make individual files\n",
    "# import pandas as pd\n",
    "# filename = '../data/EarthChem_all.csv'\n",
    "# chemdata=pd.read_csv(filename, sep=',', skipinitialspace=True)\n",
    "\n",
    "# chemdata.columns.values\n",
    "\n",
    "\n",
    "# c='SN'\n",
    "\n",
    "# a=chemdata.columns.get_loc(c)\n",
    "\n",
    "# df1=chemdata.iloc[:,[6,7,10,a]]\n",
    "# df1=df1[(df1 != 0).all(1)]\n",
    "# df1=df1.dropna()\n",
    "# df1\n",
    "# df1.to_csv(\"EarthChem\"+c+\".txt\",index=False)"
   ]
  },
  {
   "cell_type": "code",
   "execution_count": null,
   "metadata": {},
   "outputs": [],
   "source": []
  },
  {
   "cell_type": "code",
   "execution_count": null,
   "metadata": {},
   "outputs": [],
   "source": []
  },
  {
   "cell_type": "code",
   "execution_count": null,
   "metadata": {},
   "outputs": [],
   "source": []
  },
  {
   "cell_type": "code",
   "execution_count": null,
   "metadata": {},
   "outputs": [],
   "source": []
  }
 ],
 "metadata": {
  "kernelspec": {
   "display_name": "Python 3",
   "language": "python",
   "name": "python3"
  },
  "language_info": {
   "codemirror_mode": {
    "name": "ipython",
    "version": 3
   },
   "file_extension": ".py",
   "mimetype": "text/x-python",
   "name": "python",
   "nbconvert_exporter": "python",
   "pygments_lexer": "ipython3",
   "version": "3.7.3"
  }
 },
 "nbformat": 4,
 "nbformat_minor": 2
}
